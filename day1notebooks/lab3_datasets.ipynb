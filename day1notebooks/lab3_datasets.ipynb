{
 "cells": [
  {
   "cell_type": "markdown",
   "metadata": {
    "colab_type": "text",
    "id": "061VwlZpO9Lq"
   },
   "source": [
    "# Lab 3: Datasets\n",
    "\n",
    "### Overview\n",
    "\n",
    "This notebook introduces you to the MONAI dataset APIs:\n",
    "- Recap the base dataset API\n",
    "- Understanding the caching mechanism\n",
    "- Dataset utilities"
   ]
  },
  {
   "cell_type": "markdown",
   "metadata": {
    "colab_type": "text",
    "id": "9ERmUzC3O9Lr"
   },
   "source": [
    "## Install MONAI and import dependecies\n",
    "This section installs the latest version of MONAI and validates the install by printing out the configuration.\n",
    "\n",
    "We'll then import our dependencies and MONAI.  "
   ]
  },
  {
   "cell_type": "code",
   "execution_count": 2,
   "metadata": {
    "colab": {
     "base_uri": "https://localhost:8080/",
     "height": 340
    },
    "colab_type": "code",
    "id": "PWt0e0QPO9Lr",
    "outputId": "4277aa34-40df-4927-9b0a-0408e6b5ae0c",
    "tags": []
   },
   "outputs": [
    {
     "name": "stdout",
     "output_type": "stream",
     "text": [
      "MONAI version: 0.3.0rc2\n",
      "Python version: 3.8.3 (default, Jul  2 2020, 16:21:59)  [GCC 7.3.0]\n",
      "Numpy version: 1.18.5\n",
      "Pytorch version: 1.6.0\n",
      "\n",
      "Optional dependencies:\n",
      "Pytorch Ignite version: NOT INSTALLED or UNKNOWN VERSION.\n",
      "Nibabel version: 3.1.1\n",
      "scikit-image version: 0.16.2\n",
      "Pillow version: 7.2.0\n",
      "Tensorboard version: NOT INSTALLED or UNKNOWN VERSION.\n",
      "gdown version: NOT INSTALLED or UNKNOWN VERSION.\n",
      "TorchVision version: NOT INSTALLED or UNKNOWN VERSION.\n",
      "ITK version: NOT INSTALLED or UNKNOWN VERSION.\n",
      "\n",
      "For details about installing the optional dependencies, please visit:\n",
      "    https://docs.monai.io/en/latest/installation.html#installing-the-recommended-dependencies\n",
      "\n"
     ]
    }
   ],
   "source": [
    "!pip install -qU \"monai[nibabel]==0.3.0rc2\"\n",
    "\n",
    "import time\n",
    "import torch\n",
    "\n",
    "import monai\n",
    "monai.config.print_config()"
   ]
  },
  {
   "cell_type": "markdown",
   "metadata": {
    "colab_type": "text",
    "id": "Es8DMZURWc40"
   },
   "source": [
    "## MONAI Dataset "
   ]
  },
  {
   "cell_type": "markdown",
   "metadata": {
    "colab_type": "text",
    "id": "ln8ZmNpCWpDo"
   },
   "source": [
    "A MONAI [Dataset](https://docs.monai.io/en/latest/data.html?highlight=dataset#dataset) is a generic dataset with a `__len__` property, `__getitem__` property, and an optional callable data transform when fetching a data sample.\n",
    "\n",
    "We'll start by initializing some generic data, calling the Dataset class with the generic data, and specifying `None` for our transforms."
   ]
  },
  {
   "cell_type": "code",
   "execution_count": 4,
   "metadata": {
    "colab": {
     "base_uri": "https://localhost:8080/",
     "height": 153
    },
    "colab_type": "code",
    "id": "Tr13PKyDVsI2",
    "outputId": "8310ba5e-0c19-4a88-ff0d-dc3655aa3627"
   },
   "outputs": [
    {
     "name": "stdout",
     "output_type": "stream",
     "text": [
      "Length of dataset is 7\n",
      "{'data': 4}\n",
      "{'data': 9}\n",
      "{'data': 3}\n",
      "{'data': 7}\n",
      "{'data': 1}\n",
      "{'data': 2}\n",
      "{'data': 5}\n"
     ]
    }
   ],
   "source": [
    "items = [{\"data\": 4}, \n",
    "         {\"data\": 9}, \n",
    "         {\"data\": 3}, \n",
    "         {\"data\": 7}, \n",
    "         {\"data\": 1},\n",
    "         {\"data\": 2},\n",
    "         {\"data\": 5}]\n",
    "dataset = monai.data.Dataset(items, transform=None)\n",
    "\n",
    "print(f\"Length of dataset is {len(dataset)}\")\n",
    "for item in dataset:\n",
    "  print(item)"
   ]
  },
  {
   "cell_type": "markdown",
   "metadata": {
    "colab_type": "text",
    "id": "TzCrk5m0XDYv"
   },
   "source": [
    "### Compatible with the PyTorch DataLoader\n",
    "\n",
    "MONAI functionality should be compatible with the PyTorch DataLoader, although free to subclass from it if there is additional functionality that we consider key, which cannot be realized with the standard DataLoader class."
   ]
  },
  {
   "cell_type": "code",
   "execution_count": 5,
   "metadata": {
    "colab": {
     "base_uri": "https://localhost:8080/",
     "height": 85
    },
    "colab_type": "code",
    "id": "hpLFjfYWXJr4",
    "outputId": "37df5c59-9161-4e26-a806-bd2910cff36e"
   },
   "outputs": [
    {
     "name": "stdout",
     "output_type": "stream",
     "text": [
      "{'data': tensor([4, 9])}\n",
      "{'data': tensor([3, 7])}\n",
      "{'data': tensor([1, 2])}\n",
      "{'data': tensor([5])}\n"
     ]
    }
   ],
   "source": [
    "for item in torch.utils.data.DataLoader(dataset, batch_size=2):\n",
    "  print(item)"
   ]
  },
  {
   "cell_type": "markdown",
   "metadata": {
    "colab_type": "text",
    "id": "dXfFIiPrZAh_"
   },
   "source": [
    "### Load items with a customized transform\n",
    "\n",
    "We'll create a custom transform called `SquareIt`, which will replace the corresponding value of the input's `keys` with a squared value. In our case, `SquareIt(keys='data')` will apply the square transform to the value of `x['data']`."
   ]
  },
  {
   "cell_type": "code",
   "execution_count": 6,
   "metadata": {
    "colab": {
     "base_uri": "https://localhost:8080/",
     "height": 153
    },
    "colab_type": "code",
    "id": "gFy33vnRZ2SH",
    "outputId": "b347fea4-83f4-4a63-8591-7c47ccb346d1"
   },
   "outputs": [
    {
     "name": "stdout",
     "output_type": "stream",
     "text": [
      "keys to square it: ('data',)\n",
      "{'data': 16}\n",
      "{'data': 81}\n",
      "{'data': 9}\n",
      "{'data': 49}\n",
      "{'data': 1}\n",
      "{'data': 4}\n",
      "{'data': 25}\n"
     ]
    }
   ],
   "source": [
    "class SquareIt(monai.transforms.MapTransform):\n",
    "  \"\"\"a simple transform to return a squared number\"\"\"\n",
    "\n",
    "  def __init__(self, keys):\n",
    "    monai.transforms.MapTransform.__init__(self, keys)\n",
    "    print(f\"keys to square it: {self.keys}\")\n",
    "\n",
    "  def __call__(self, x):\n",
    "    key = self.keys[0]\n",
    "    data = x[key]\n",
    "    output = {key: data ** 2}\n",
    "    return output\n",
    "\n",
    "square_dataset = monai.data.Dataset(items, transform=SquareIt(keys='data'))\n",
    "for item in square_dataset:\n",
    "  print(item)"
   ]
  },
  {
   "cell_type": "markdown",
   "metadata": {
    "colab_type": "text",
    "id": "pgDSkrywno7g"
   },
   "source": [
    "Keep in mind\n",
    "- `SquareIt` is implemented as creating a new dictionary `output` instead of overwriting the content of dict `x` directly. So that we can repeatedly apply the transforms, for example, in multiple epochs of training\n",
    "- `SquareIt.__call__` read the key information from `self.keys` but does not write any properties to `self`. Because writing properties will not work with a multi-processing data loader.\n",
    "- In most of the MONAI preprocessing transforms, we assume `x[key]` has the shape: `(num_channels, spatial_dim_1, spatial_dim_2, ...)`. The channel dimension is not omitted even if `num_channels` equals to 1, but the spatial dimensions could be omitted."
   ]
  },
  {
   "cell_type": "markdown",
   "metadata": {
    "colab_type": "text",
    "id": "0yiwrG2dO9Ly"
   },
   "source": [
    "## MONAI dataset caching\n",
    "\n",
    "To demonstrate the benefit dataset caching, we're going to construct a dataset with a slow transform.  To do that, we're going to call the sleep function during each of the `__call__` functions."
   ]
  },
  {
   "cell_type": "code",
   "execution_count": 7,
   "metadata": {
    "colab": {
     "base_uri": "https://localhost:8080/",
     "height": 34
    },
    "colab_type": "code",
    "id": "v_j1q_EZbAfY",
    "outputId": "949f6d57-dcef-4cde-a615-1b38837aa21f"
   },
   "outputs": [
    {
     "name": "stdout",
     "output_type": "stream",
     "text": [
      "keys to square it: ('data',)\n"
     ]
    }
   ],
   "source": [
    "class SlowSquare(monai.transforms.MapTransform):\n",
    "  \"\"\"a simple transform to slowly return a squared number\"\"\"\n",
    "  \n",
    "  def __init__(self, keys):\n",
    "    monai.transforms.MapTransform.__init__(self, keys)\n",
    "    print(f\"keys to square it: {self.keys}\")\n",
    "\n",
    "  def __call__(self, x):\n",
    "    time.sleep(1.0)\n",
    "    output = {key: x[key] ** 2 for key in self.keys}\n",
    "    return output\n",
    "\n",
    "square_dataset = monai.data.Dataset(items, transform=SlowSquare(keys='data'))"
   ]
  },
  {
   "cell_type": "markdown",
   "metadata": {
    "colab_type": "text",
    "id": "o7hWDorAfA0V"
   },
   "source": [
    "As expected, it's going to take about 7 seconds to go through all the items."
   ]
  },
  {
   "cell_type": "code",
   "execution_count": 8,
   "metadata": {
    "colab": {
     "base_uri": "https://localhost:8080/",
     "height": 170
    },
    "colab_type": "code",
    "id": "6xKKm1rmbT1w",
    "outputId": "3e5ca46e-40b5-4926-9cba-0f9978e47e84"
   },
   "outputs": [
    {
     "name": "stdout",
     "output_type": "stream",
     "text": [
      "{'data': 16}\n",
      "{'data': 81}\n",
      "{'data': 9}\n",
      "{'data': 49}\n",
      "{'data': 1}\n",
      "{'data': 4}\n",
      "{'data': 25}\n",
      "CPU times: user 0 ns, sys: 15.6 ms, total: 15.6 ms\n",
      "Wall time: 7.01 s\n"
     ]
    }
   ],
   "source": [
    "%time for item in square_dataset: print(item)"
   ]
  },
  {
   "cell_type": "markdown",
   "metadata": {
    "colab_type": "text",
    "id": "NR3nSnlWfUsh"
   },
   "source": [
    "### Cache Dataset\n",
    "\n",
    "When using [CacheDataset](https://docs.monai.io/en/latest/data.html?highlight=dataset#cachedataset) the caching is done when the object is initialized for the first time, so the initialization is slower than a regular dataset.\n",
    "\n",
    "By caching the results of non-random preprocessing transforms, it accelerates the training data pipeline. If the requested data is not in the cache, all transforms will run normally."
   ]
  },
  {
   "cell_type": "code",
   "execution_count": 9,
   "metadata": {
    "colab": {
     "base_uri": "https://localhost:8080/",
     "height": 51
    },
    "colab_type": "code",
    "id": "PV3qNOADbrII",
    "outputId": "24f6154b-56ff-4b33-ca96-530d57e44281"
   },
   "outputs": [
    {
     "name": "stdout",
     "output_type": "stream",
     "text": [
      "keys to square it: ('data',)\n",
      "7/7 Load and cache transformed data:  [==============================]\n"
     ]
    }
   ],
   "source": [
    "square_cached = monai.data.CacheDataset(items, transform=SlowSquare(keys='data'))"
   ]
  },
  {
   "cell_type": "markdown",
   "metadata": {
    "colab_type": "text",
    "id": "iHR6D2Hmfqqd"
   },
   "source": [
    "However, repeatedly fetching the items from an initialised CacheDataset is fast."
   ]
  },
  {
   "cell_type": "code",
   "execution_count": 10,
   "metadata": {
    "colab": {
     "base_uri": "https://localhost:8080/",
     "height": 51
    },
    "colab_type": "code",
    "id": "REth7XTxdYTe",
    "outputId": "4d3b7e87-23d6-434b-efba-4e651fa3ebed"
   },
   "outputs": [
    {
     "name": "stdout",
     "output_type": "stream",
     "text": [
      "17.9 µs ± 2.2 µs per loop (mean ± std. dev. of 7 runs, 100000 loops each)\n"
     ]
    }
   ],
   "source": [
    "%timeit list(item for item in square_cached)"
   ]
  },
  {
   "cell_type": "markdown",
   "metadata": {},
   "source": [
    "To improve the caching efficiency, always put as many as possible non-random transforms before the randomized ones when composing the chain of transforms."
   ]
  },
  {
   "cell_type": "markdown",
   "metadata": {
    "colab_type": "text",
    "id": "jH1L6yQzf2lR"
   },
   "source": [
    "### Persistent Caching\n",
    "\n",
    "[PersistantDataset](https://docs.monai.io/en/latest/data.html?highlight=dataset#persistentdataset) allows for persistent storage of pre-computed values to efficiently manage larger than memory dictionary format data.\n",
    "\n",
    "The non-random transform components are computed when first used and stored in the cache_dir for rapid retrieval on subsequent uses."
   ]
  },
  {
   "cell_type": "code",
   "execution_count": 11,
   "metadata": {
    "colab": {
     "base_uri": "https://localhost:8080/",
     "height": 34
    },
    "colab_type": "code",
    "id": "uB28jyA0f6DB",
    "outputId": "ea65e7f0-6c20-449c-93e0-e0e7f52557eb"
   },
   "outputs": [
    {
     "name": "stdout",
     "output_type": "stream",
     "text": [
      "keys to square it: ('data',)\n"
     ]
    }
   ],
   "source": [
    "square_persist = monai.data.PersistentDataset(items, transform=SlowSquare(keys='data'), cache_dir=\"my_cache\")"
   ]
  },
  {
   "cell_type": "markdown",
   "metadata": {
    "colab_type": "text",
    "id": "egR1w_hGsGfx"
   },
   "source": [
    "The caching happens at the first epoch of loading the dataset, so calling the dataset the first time should take about 7 seconds."
   ]
  },
  {
   "cell_type": "code",
   "execution_count": 12,
   "metadata": {
    "colab": {
     "base_uri": "https://localhost:8080/",
     "height": 170
    },
    "colab_type": "code",
    "id": "BnM2n_YGgoIU",
    "outputId": "4cd3c324-70bc-4eab-fecb-657f50ed5103"
   },
   "outputs": [
    {
     "name": "stdout",
     "output_type": "stream",
     "text": [
      "{'data': 16, 'cached': True}\n",
      "{'data': 81, 'cached': True}\n",
      "{'data': 9, 'cached': True}\n",
      "{'data': 49, 'cached': True}\n",
      "{'data': 1, 'cached': True}\n",
      "{'data': 4, 'cached': True}\n",
      "{'data': 25, 'cached': True}\n",
      "CPU times: user 31.2 ms, sys: 46.9 ms, total: 78.1 ms\n",
      "Wall time: 7.04 s\n"
     ]
    }
   ],
   "source": [
    "%time for item in square_persist: print(item)"
   ]
  },
  {
   "cell_type": "markdown",
   "metadata": {
    "colab_type": "text",
    "id": "401uwXfLsequ"
   },
   "source": [
    "During the initialization of the `PersistentDataset` we passed in the parameter \"my_cache\" for the location to store the intermediate data.  We'll look at that directory below."
   ]
  },
  {
   "cell_type": "code",
   "execution_count": 13,
   "metadata": {
    "colab": {
     "base_uri": "https://localhost:8080/",
     "height": 85
    },
    "colab_type": "code",
    "id": "ncpKcxs0sZ2r",
    "outputId": "f6bcbf70-6bcb-4342-d2f0-a7996c72f67f"
   },
   "outputs": [
    {
     "name": "stdout",
     "output_type": "stream",
     "text": [
      "4778b171cb1049abbcf1032d03ff0afa.pt  b4f755104d6a0dbcb613830c6843e20a.pt\r\n",
      "4c9197730c3e18666577f071056e22aa.pt  c21e0cfa7480c1552432f9970c278b2f.pt\r\n",
      "98de00671e255e94c2f34ce3bee56982.pt  cf2dbfadfc25b1d7be23db09c39200ef.pt\r\n",
      "aa9229f61411705e25ed1d31ed0b7f98.pt\r\n"
     ]
    }
   ],
   "source": [
    "!ls my_cache"
   ]
  },
  {
   "cell_type": "markdown",
   "metadata": {
    "colab_type": "text",
    "id": "XonC8u1gspjM"
   },
   "source": [
    "When calling out to the dataset on the following epochs, it will not call the slow transform but used the cached data."
   ]
  },
  {
   "cell_type": "code",
   "execution_count": 14,
   "metadata": {
    "colab": {
     "base_uri": "https://localhost:8080/",
     "height": 51
    },
    "colab_type": "code",
    "id": "o43pKytygJRE",
    "outputId": "b1832fd8-db99-42a4-c517-0ba63197f817"
   },
   "outputs": [
    {
     "name": "stdout",
     "output_type": "stream",
     "text": [
      "5.55 ms ± 277 µs per loop (mean ± std. dev. of 7 runs, 100 loops each)\n"
     ]
    }
   ],
   "source": [
    "%timeit [item for item in square_persist]"
   ]
  },
  {
   "cell_type": "markdown",
   "metadata": {
    "colab_type": "text",
    "id": "fw--U6u0yFWX"
   },
   "source": [
    "Fresh dataset instances can make use of the caching data:"
   ]
  },
  {
   "cell_type": "code",
   "execution_count": 15,
   "metadata": {
    "colab": {
     "base_uri": "https://localhost:8080/",
     "height": 68
    },
    "colab_type": "code",
    "id": "U_ATus9kx-LF",
    "outputId": "72beb0c6-dd8b-4888-aa0f-54add725ab1d"
   },
   "outputs": [
    {
     "name": "stdout",
     "output_type": "stream",
     "text": [
      "keys to square it: ('data',)\n",
      "5.23 ms ± 192 µs per loop (mean ± std. dev. of 7 runs, 100 loops each)\n"
     ]
    }
   ],
   "source": [
    "square_persist_1 = monai.data.PersistentDataset(items, transform=SlowSquare(keys='data'), cache_dir=\"my_cache\")\n",
    "%timeit [item for item in square_persist_1]"
   ]
  },
  {
   "cell_type": "markdown",
   "metadata": {
    "colab_type": "text",
    "id": "DmNd7zjCO9L1"
   },
   "source": [
    "### Caching in action\n",
    "- There's also a [SmartCacheDataset](https://docs.monai.io/en/latest/data.html#monai.data.SmartCacheDataset) to hide the transforms latency with less memory consumption.\n",
    "- The dataset tutorial notebook has a working example and a comparison of different caching mechanism in MONAI: https://github.com/Project-MONAI/tutorials/blob/master/acceleration/dataset_type_performance.ipynb\n"
   ]
  },
  {
   "cell_type": "markdown",
   "metadata": {
    "colab_type": "text",
    "id": "0cYYQFiVvEHF"
   },
   "source": [
    "## Other dataset utilities"
   ]
  },
  {
   "cell_type": "markdown",
   "metadata": {
    "colab_type": "text",
    "id": "fd0fmVOlwNzu"
   },
   "source": [
    "### ZipDataset"
   ]
  },
  {
   "cell_type": "markdown",
   "metadata": {
    "colab_type": "text",
    "id": "cjuAfigD05xo"
   },
   "source": [
    "[ZipDataset](https://docs.monai.io/en/latest/data.html?highlight=dataset#zipdataset) will zip several PyTorch datasets and output data(with the same index) together in a tuple. If a single dataset's output is already a tuple, flatten it and extend to the result. It supports applying some transforms on the associated new element."
   ]
  },
  {
   "cell_type": "code",
   "execution_count": null,
   "metadata": {
    "colab": {
     "base_uri": "https://localhost:8080/",
     "height": 68
    },
    "colab_type": "code",
    "id": "viV_c4nny57n",
    "outputId": "d09cde33-ba4c-40ca-9e17-6d05a205b132"
   },
   "outputs": [],
   "source": [
    "items = [4, 9, 3]\n",
    "dataset_1 = monai.data.Dataset(items)\n",
    "\n",
    "items = [7, 1, 2, 5]\n",
    "dataset_2 = monai.data.Dataset(items)\n",
    "\n",
    "def concat(data):\n",
    "  # data[0] is an element from dataset_1\n",
    "  # data[1] is an element from dataset_2\n",
    "  return (f\"{data[0]} + {data[1]} = {data[0] + data[1]}\",)\n",
    "\n",
    "zipped_data = monai.data.ZipDataset([dataset_1, dataset_2], transform=concat)\n",
    "for item in zipped_data:\n",
    "  print(item)"
   ]
  },
  {
   "cell_type": "markdown",
   "metadata": {
    "colab_type": "text",
    "id": "ZG3hRxlb1hhA"
   },
   "source": [
    "### Common  Datasets\n",
    "\n",
    "MONAI provides access to some commonly used medical imaging datasets through [DecathlonDataset](https://docs.monai.io/en/latest/data.html?highlight=dataset#decathlon-datalist). This function leverages the features described throughout this notebook."
   ]
  },
  {
   "cell_type": "code",
   "execution_count": null,
   "metadata": {
    "colab": {
     "base_uri": "https://localhost:8080/",
     "height": 85
    },
    "colab_type": "code",
    "id": "VMBIytfJ18Mv",
    "outputId": "bf579a00-3bc9-4fe4-f023-fd8393c2cbd9"
   },
   "outputs": [],
   "source": [
    "dataset = monai.apps.DecathlonDataset(root_dir=\"./\", task=\"Task04_Hippocampus\", section=\"training\", download=True)"
   ]
  },
  {
   "cell_type": "code",
   "execution_count": null,
   "metadata": {
    "colab": {
     "base_uri": "https://localhost:8080/",
     "height": 51
    },
    "colab_type": "code",
    "id": "eBXDYBHd2045",
    "outputId": "fd88258f-a439-4b25-a5d7-19f0e36b74ea"
   },
   "outputs": [],
   "source": [
    "print(dataset.get_properties(\"numTraining\"))\n",
    "print(dataset.get_properties(\"description\"))"
   ]
  },
  {
   "cell_type": "code",
   "execution_count": null,
   "metadata": {
    "colab": {
     "base_uri": "https://localhost:8080/",
     "height": 51
    },
    "colab_type": "code",
    "id": "ad4slIph8vWf",
    "outputId": "740d0ff9-654e-4140-bcbb-b97808e8cebb"
   },
   "outputs": [],
   "source": [
    "print(dataset[0]['image'].shape)\n",
    "print(dataset[0]['label'].shape)"
   ]
  },
  {
   "cell_type": "markdown",
   "metadata": {
    "colab_type": "text",
    "id": "za7I3fnH2jGy"
   },
   "source": [
    "These datasets are an extension of CacheDataset.\n",
    "More details of this API are covered in the other labs."
   ]
  },
  {
   "cell_type": "markdown",
   "metadata": {},
   "source": [
    "## Summary\n",
    "\n",
    "In this notebook, we recapped datasets and learned more about their caching mechanisms, including:\n",
    "- Cache Dataset and Persistent Dataset\n",
    "- How to use DecathlonData\n",
    "\n",
    "For full API documentation, please visit https://docs.monai.io."
   ]
  }
 ],
 "metadata": {
  "colab": {
   "collapsed_sections": [],
   "name": "lab3_datasets.ipynb",
   "provenance": []
  },
  "kernelspec": {
   "display_name": "Python 3",
   "language": "python",
   "name": "python3"
  },
  "language_info": {
   "codemirror_mode": {
    "name": "ipython",
    "version": 3
   },
   "file_extension": ".py",
   "mimetype": "text/x-python",
   "name": "python",
   "nbconvert_exporter": "python",
   "pygments_lexer": "ipython3",
   "version": "3.6.10"
  }
 },
 "nbformat": 4,
 "nbformat_minor": 1
}
